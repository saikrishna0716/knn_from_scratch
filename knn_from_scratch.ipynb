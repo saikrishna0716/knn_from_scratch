{
  "nbformat": 4,
  "nbformat_minor": 0,
  "metadata": {
    "colab": {
      "provenance": []
    },
    "kernelspec": {
      "name": "python3",
      "display_name": "Python 3"
    },
    "language_info": {
      "name": "python"
    }
  },
  "cells": [
    {
      "cell_type": "code",
      "execution_count": 45,
      "metadata": {
        "id": "BNAGAM0qbaBO"
      },
      "outputs": [],
      "source": [
        "import numpy as np\n",
        "from collections import Counter\n",
        "from logging import exception"
      ]
    },
    {
      "cell_type": "code",
      "source": [
        "def distance(x1, x2):\n",
        "  return np.sum(np.abs(x1-x2))\n",
        "\n",
        "class KNN:\n",
        "\n",
        "  def __init__(self, is_regression, k):\n",
        "\n",
        "    try:\n",
        "      self.k = k\n",
        "      self.is_regression = is_regression\n",
        "\n",
        "    except Exception as e:\n",
        "      raise Exception(e)\n",
        "\n",
        "  def fit(self, x_train, y_train):\n",
        "    self.x_train = x_train\n",
        "    self.y_train = y_train\n",
        "\n",
        "  def predict(self, x_test):\n",
        "\n",
        "    self.final_pred = [self._predict(x) for x in x_test]\n",
        "    print(self.final_pred)\n",
        "    return\n",
        "\n",
        "  def _predict(self, x):\n",
        "\n",
        "    distances = [distance(x, xt) for xt in self.x_train]\n",
        "    sorted_indices = np.argsort(distances)[:self.k]\n",
        "\n",
        "    y_pred = [self.y_train[i] for i in sorted_indices]\n",
        "\n",
        "    if self.is_regression:\n",
        "      final_pred = np.mean(y_pred)\n",
        "\n",
        "    else:\n",
        "      final_pred = Counter(y_pred).most_common()[0][0]\n",
        "\n",
        "    return final_pred\n",
        "\n",
        "  def evaluate(self,y_test):\n",
        "\n",
        "    if self.is_regression:\n",
        "      score = np.sum(((y_test-self.final_pred)**2))\n",
        "      print(f'RMSE is {score}')\n",
        "\n",
        "    else:\n",
        "      score = np.sum(y_test==self.final_pred)*100/len(y_test)\n",
        "      print(f'Accuracy is {score}%')\n",
        "\n",
        "    return"
      ],
      "metadata": {
        "id": "h8clWXw4beUq"
      },
      "execution_count": 94,
      "outputs": []
    },
    {
      "cell_type": "code",
      "source": [
        "x_train = np.array([[1,2],[9,4],[7,15],[10,15]])\n",
        "y_train = np.array([10,32,27,51])\n",
        "\n",
        "x_test = np.array([[10,5],[2,4]])\n",
        "y_test = np.array([32,10])\n",
        "\n",
        "knn = KNN(is_regression=True,k=1)\n",
        "knn.fit(x_train, y_train)\n",
        "knn.predict(x_test)\n",
        "knn.evaluate(y_test)"
      ],
      "metadata": {
        "colab": {
          "base_uri": "https://localhost:8080/"
        },
        "id": "HZQVKmzddsVb",
        "outputId": "cde5e038-c0a2-4801-a5d3-0de5c4821fc3"
      },
      "execution_count": 95,
      "outputs": [
        {
          "output_type": "stream",
          "name": "stdout",
          "text": [
            "[1]\n",
            "[0]\n",
            "[np.float64(32.0), np.float64(10.0)]\n",
            "RMSE is 0.0\n"
          ]
        }
      ]
    }
  ]
}